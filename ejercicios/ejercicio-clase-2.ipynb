{
 "cells": [
  {
   "cell_type": "markdown",
   "metadata": {},
   "source": [
    "## Restricted Botlzman Machines\n",
    "\n",
    "En la sesión de hoy vamos a implementar una máquina restringida de Botlzman para implementar un sistema de recomendación para datos binarios. Para ello vamos a tratar un dataset de recomendaciones de películas."
   ]
  },
  {
   "cell_type": "markdown",
   "metadata": {},
   "source": [
    "El primer paso será cargar las librerías que vamos a usar en este ejercicio."
   ]
  },
  {
   "cell_type": "code",
   "execution_count": 3,
   "metadata": {},
   "outputs": [],
   "source": [
    "import numpy as np\n",
    "import pandas as pd\n",
    "import torch\n",
    "import torch.nn.parallel\n",
    "import torch.utils.data\n",
    "import os\n",
    "from sklearn.model_selection import train_test_split "
   ]
  },
  {
   "cell_type": "markdown",
   "metadata": {},
   "source": [
    "Lo siguiente será cargar los propios datos. EL primer dataset serán las propias votaciones de los usuarios a distintas películas. Imprime por pantalla las primeras líneas para ver la estructura de los datos."
   ]
  },
  {
   "cell_type": "code",
   "execution_count": 4,
   "metadata": {},
   "outputs": [
    {
     "name": "stdout",
     "output_type": "stream",
     "text": [
      "   userId  movieId  rating\n",
      "0       1        1     4.0\n",
      "1       1        3     4.0\n",
      "2       1        6     4.0\n",
      "3       1       47     5.0\n",
      "4       1       50     5.0\n"
     ]
    }
   ],
   "source": [
    "df_ratings=pd.read_csv(\"ejercicio-clase-2-ratings.csv\")\n",
    "df_ratings = df_ratings[['userId', 'movieId', 'rating']]\n",
    "print(df_ratings.head())"
   ]
  },
  {
   "cell_type": "markdown",
   "metadata": {},
   "source": [
    "El formato de este dataframe es de la forma usuario-película-puntuación. Lo vamos a pasar a formato matriz en el que tengamos una fila por usuario y las columnas sean las películas."
   ]
  },
  {
   "cell_type": "code",
   "execution_count": 5,
   "metadata": {},
   "outputs": [
    {
     "name": "stderr",
     "output_type": "stream",
     "text": [
      "C:\\Users\\Marti\\AppData\\Local\\Temp\\ipykernel_256\\612626875.py:1: FutureWarning: The provided callable <function sum at 0x000001AF6B4087C0> is currently using DataFrameGroupBy.sum. In a future version of pandas, the provided callable will be used directly. To keep current behavior pass the string \"sum\" instead.\n",
      "  df_input=pd.pivot_table(df_ratings, values='rating',index='userId',columns='movieId',aggfunc=np.sum)\n"
     ]
    }
   ],
   "source": [
    "df_input=pd.pivot_table(df_ratings, values='rating',index='userId',columns='movieId',aggfunc=np.sum)"
   ]
  },
  {
   "cell_type": "markdown",
   "metadata": {},
   "source": [
    "Imprime las primeras filas para ver la estructura de la matriz resultante."
   ]
  },
  {
   "cell_type": "code",
   "execution_count": 6,
   "metadata": {},
   "outputs": [
    {
     "data": {
      "text/html": [
       "<div>\n",
       "<style scoped>\n",
       "    .dataframe tbody tr th:only-of-type {\n",
       "        vertical-align: middle;\n",
       "    }\n",
       "\n",
       "    .dataframe tbody tr th {\n",
       "        vertical-align: top;\n",
       "    }\n",
       "\n",
       "    .dataframe thead th {\n",
       "        text-align: right;\n",
       "    }\n",
       "</style>\n",
       "<table border=\"1\" class=\"dataframe\">\n",
       "  <thead>\n",
       "    <tr style=\"text-align: right;\">\n",
       "      <th>movieId</th>\n",
       "      <th>1</th>\n",
       "      <th>2</th>\n",
       "      <th>3</th>\n",
       "      <th>4</th>\n",
       "      <th>5</th>\n",
       "      <th>6</th>\n",
       "      <th>7</th>\n",
       "      <th>8</th>\n",
       "      <th>9</th>\n",
       "      <th>10</th>\n",
       "      <th>...</th>\n",
       "      <th>193565</th>\n",
       "      <th>193567</th>\n",
       "      <th>193571</th>\n",
       "      <th>193573</th>\n",
       "      <th>193579</th>\n",
       "      <th>193581</th>\n",
       "      <th>193583</th>\n",
       "      <th>193585</th>\n",
       "      <th>193587</th>\n",
       "      <th>193609</th>\n",
       "    </tr>\n",
       "    <tr>\n",
       "      <th>userId</th>\n",
       "      <th></th>\n",
       "      <th></th>\n",
       "      <th></th>\n",
       "      <th></th>\n",
       "      <th></th>\n",
       "      <th></th>\n",
       "      <th></th>\n",
       "      <th></th>\n",
       "      <th></th>\n",
       "      <th></th>\n",
       "      <th></th>\n",
       "      <th></th>\n",
       "      <th></th>\n",
       "      <th></th>\n",
       "      <th></th>\n",
       "      <th></th>\n",
       "      <th></th>\n",
       "      <th></th>\n",
       "      <th></th>\n",
       "      <th></th>\n",
       "      <th></th>\n",
       "    </tr>\n",
       "  </thead>\n",
       "  <tbody>\n",
       "    <tr>\n",
       "      <th>1</th>\n",
       "      <td>4.0</td>\n",
       "      <td>NaN</td>\n",
       "      <td>4.0</td>\n",
       "      <td>NaN</td>\n",
       "      <td>NaN</td>\n",
       "      <td>4.0</td>\n",
       "      <td>NaN</td>\n",
       "      <td>NaN</td>\n",
       "      <td>NaN</td>\n",
       "      <td>NaN</td>\n",
       "      <td>...</td>\n",
       "      <td>NaN</td>\n",
       "      <td>NaN</td>\n",
       "      <td>NaN</td>\n",
       "      <td>NaN</td>\n",
       "      <td>NaN</td>\n",
       "      <td>NaN</td>\n",
       "      <td>NaN</td>\n",
       "      <td>NaN</td>\n",
       "      <td>NaN</td>\n",
       "      <td>NaN</td>\n",
       "    </tr>\n",
       "    <tr>\n",
       "      <th>2</th>\n",
       "      <td>NaN</td>\n",
       "      <td>NaN</td>\n",
       "      <td>NaN</td>\n",
       "      <td>NaN</td>\n",
       "      <td>NaN</td>\n",
       "      <td>NaN</td>\n",
       "      <td>NaN</td>\n",
       "      <td>NaN</td>\n",
       "      <td>NaN</td>\n",
       "      <td>NaN</td>\n",
       "      <td>...</td>\n",
       "      <td>NaN</td>\n",
       "      <td>NaN</td>\n",
       "      <td>NaN</td>\n",
       "      <td>NaN</td>\n",
       "      <td>NaN</td>\n",
       "      <td>NaN</td>\n",
       "      <td>NaN</td>\n",
       "      <td>NaN</td>\n",
       "      <td>NaN</td>\n",
       "      <td>NaN</td>\n",
       "    </tr>\n",
       "    <tr>\n",
       "      <th>3</th>\n",
       "      <td>NaN</td>\n",
       "      <td>NaN</td>\n",
       "      <td>NaN</td>\n",
       "      <td>NaN</td>\n",
       "      <td>NaN</td>\n",
       "      <td>NaN</td>\n",
       "      <td>NaN</td>\n",
       "      <td>NaN</td>\n",
       "      <td>NaN</td>\n",
       "      <td>NaN</td>\n",
       "      <td>...</td>\n",
       "      <td>NaN</td>\n",
       "      <td>NaN</td>\n",
       "      <td>NaN</td>\n",
       "      <td>NaN</td>\n",
       "      <td>NaN</td>\n",
       "      <td>NaN</td>\n",
       "      <td>NaN</td>\n",
       "      <td>NaN</td>\n",
       "      <td>NaN</td>\n",
       "      <td>NaN</td>\n",
       "    </tr>\n",
       "    <tr>\n",
       "      <th>4</th>\n",
       "      <td>NaN</td>\n",
       "      <td>NaN</td>\n",
       "      <td>NaN</td>\n",
       "      <td>NaN</td>\n",
       "      <td>NaN</td>\n",
       "      <td>NaN</td>\n",
       "      <td>NaN</td>\n",
       "      <td>NaN</td>\n",
       "      <td>NaN</td>\n",
       "      <td>NaN</td>\n",
       "      <td>...</td>\n",
       "      <td>NaN</td>\n",
       "      <td>NaN</td>\n",
       "      <td>NaN</td>\n",
       "      <td>NaN</td>\n",
       "      <td>NaN</td>\n",
       "      <td>NaN</td>\n",
       "      <td>NaN</td>\n",
       "      <td>NaN</td>\n",
       "      <td>NaN</td>\n",
       "      <td>NaN</td>\n",
       "    </tr>\n",
       "    <tr>\n",
       "      <th>5</th>\n",
       "      <td>4.0</td>\n",
       "      <td>NaN</td>\n",
       "      <td>NaN</td>\n",
       "      <td>NaN</td>\n",
       "      <td>NaN</td>\n",
       "      <td>NaN</td>\n",
       "      <td>NaN</td>\n",
       "      <td>NaN</td>\n",
       "      <td>NaN</td>\n",
       "      <td>NaN</td>\n",
       "      <td>...</td>\n",
       "      <td>NaN</td>\n",
       "      <td>NaN</td>\n",
       "      <td>NaN</td>\n",
       "      <td>NaN</td>\n",
       "      <td>NaN</td>\n",
       "      <td>NaN</td>\n",
       "      <td>NaN</td>\n",
       "      <td>NaN</td>\n",
       "      <td>NaN</td>\n",
       "      <td>NaN</td>\n",
       "    </tr>\n",
       "  </tbody>\n",
       "</table>\n",
       "<p>5 rows × 9724 columns</p>\n",
       "</div>"
      ],
      "text/plain": [
       "movieId  1       2       3       4       5       6       7       8       \\\n",
       "userId                                                                    \n",
       "1           4.0     NaN     4.0     NaN     NaN     4.0     NaN     NaN   \n",
       "2           NaN     NaN     NaN     NaN     NaN     NaN     NaN     NaN   \n",
       "3           NaN     NaN     NaN     NaN     NaN     NaN     NaN     NaN   \n",
       "4           NaN     NaN     NaN     NaN     NaN     NaN     NaN     NaN   \n",
       "5           4.0     NaN     NaN     NaN     NaN     NaN     NaN     NaN   \n",
       "\n",
       "movieId  9       10      ...  193565  193567  193571  193573  193579  193581  \\\n",
       "userId                   ...                                                   \n",
       "1           NaN     NaN  ...     NaN     NaN     NaN     NaN     NaN     NaN   \n",
       "2           NaN     NaN  ...     NaN     NaN     NaN     NaN     NaN     NaN   \n",
       "3           NaN     NaN  ...     NaN     NaN     NaN     NaN     NaN     NaN   \n",
       "4           NaN     NaN  ...     NaN     NaN     NaN     NaN     NaN     NaN   \n",
       "5           NaN     NaN  ...     NaN     NaN     NaN     NaN     NaN     NaN   \n",
       "\n",
       "movieId  193583  193585  193587  193609  \n",
       "userId                                   \n",
       "1           NaN     NaN     NaN     NaN  \n",
       "2           NaN     NaN     NaN     NaN  \n",
       "3           NaN     NaN     NaN     NaN  \n",
       "4           NaN     NaN     NaN     NaN  \n",
       "5           NaN     NaN     NaN     NaN  \n",
       "\n",
       "[5 rows x 9724 columns]"
      ]
     },
     "execution_count": 6,
     "metadata": {},
     "output_type": "execute_result"
    }
   ],
   "source": [
    "df_input.head()"
   ]
  },
  {
   "cell_type": "markdown",
   "metadata": {},
   "source": [
    "Rellena con -1 los valores faltantes (así se puede detectar fácilmente las películas que un usuario no haya votado)."
   ]
  },
  {
   "cell_type": "code",
   "execution_count": 7,
   "metadata": {},
   "outputs": [],
   "source": [
    "df_input = df_input.fillna(-1)"
   ]
  },
  {
   "cell_type": "markdown",
   "metadata": {},
   "source": [
    "Divide el dataset en un subset de entranamiento y uno de evaluación con el 80% y el 20%, respectivamente, de los usuarios."
   ]
  },
  {
   "cell_type": "code",
   "execution_count": 8,
   "metadata": {},
   "outputs": [],
   "source": [
    "X_train,X_test = train_test_split(df_input, test_size=0.2, random_state=42)"
   ]
  },
  {
   "cell_type": "markdown",
   "metadata": {},
   "source": [
    "Los pasamos a tensores de Pytorch"
   ]
  },
  {
   "cell_type": "code",
   "execution_count": 9,
   "metadata": {},
   "outputs": [],
   "source": [
    "training_set=X_train.values\n",
    "test_set=X_test.values\n",
    "training_set=torch.FloatTensor(training_set)\n",
    "test_set=torch.FloatTensor(test_set)"
   ]
  },
  {
   "cell_type": "markdown",
   "metadata": {},
   "source": [
    "Vamos a plantear una maquina restringida que trata con valores binarios. Por tanto pasaremos las matrices a valores 0-1 (únicamente los valores 'votados') Por tanto, pasamos las votaciones a valores binarios. Asignaremos el valor 1 a las películas que le hayan gustado al usuario, 0 que no y mantendremos como -1 a las que no ha visto. \n",
    "\n",
    "Se propone que las votaciones iguales o por encima de 2.5 se codifiquen como 1 y las que estén por debajo se codifiquen como 0, teniendo en cuenta que hay valores con valores -1."
   ]
  },
  {
   "cell_type": "code",
   "execution_count": 10,
   "metadata": {},
   "outputs": [],
   "source": [
    "training_set[((training_set >= 0) & (training_set <= 2))] = 0\n",
    "training_set[training_set > 2] = 1\n",
    "test_set[((test_set >= 0) & (test_set <= 2))] = 0\n",
    "test_set[test_set >= 2] = 1"
   ]
  },
  {
   "cell_type": "markdown",
   "metadata": {},
   "source": [
    "Defina la clase refelativa a un RBM."
   ]
  },
  {
   "cell_type": "code",
   "execution_count": 17,
   "metadata": {},
   "outputs": [],
   "source": [
    "class RBM_2(object):\n",
    "    def __init__(self, nv, nh, batch_size, epochs, steps, lr, verbose):\n",
    "        self.w = torch.randn(nh, nv)\n",
    "        self.bh = torch.randn(1, nh)\n",
    "        self.bv = torch.randn(1, nv)\n",
    "        self.nv = nv\n",
    "        self.nh = nh\n",
    "        self.batch_size = batch_size\n",
    "        self.epochs = epochs\n",
    "        self.steps = steps\n",
    "        self.lr = lr\n",
    "        self.verbose = verbose\n",
    "\n",
    "    def cond_prob_h(self, x):\n",
    "        wx = torch.mm(x, self.w.t())\n",
    "        activation = wx + self.bh.expand_as(wx)\n",
    "        p_h_subject_v = torch.sigmoid(activation)\n",
    "        return p_h_subject_v, torch.bernoulli(p_h_subject_v)\n",
    "    \n",
    "    def cond_prob_v(self, y):\n",
    "        wy = torch.mm(y, self.w)\n",
    "        activation = wy + self.bv.expand_as(wy)\n",
    "        p_v_subject_h = torch.sigmoid(activation)\n",
    "        return p_v_subject_h, torch.bernoulli(p_v_subject_h)\n",
    "    \n",
    "    def update(self, v0, vk, ph0, phk):\n",
    "        lr = self.lr\n",
    "        self.w += lr * (torch.t(torch.mm(v0.t(), ph0) - torch.mm(vk.t(), phk)))\n",
    "        self.bh += lr * (torch.t(torch.sum((ph0 - phk), 0)))\n",
    "        self.bv += lr * (torch.t(torch.sum((v0 - vk), 0)))\n",
    "\n",
    "    def train(self, df_train):\n",
    "        batch_size = self.batch_size\n",
    "        epochs = self.epochs\n",
    "        steps = self.steps\n",
    "        verbose = self.verbose\n",
    "        for epoch in range(1, epochs + 1):\n",
    "            train_loss = 0\n",
    "            s = 0.\n",
    "            users = len(df_train)\n",
    "            for user in range(0, users - batch_size, batch_size):\n",
    "                vk = df_train[user:user + batch_size]\n",
    "                v0 = df_train[user:user + batch_size]\n",
    "                ph0,_ = self.cond_prob_h(v0)\n",
    "                for k in range(steps):\n",
    "                    _,hk = self.cond_prob_h(vk)\n",
    "                    _,vk = self.cond_prob_v(hk)\n",
    "                    vk[v0<0] = v0[v0<0]\n",
    "                phk,_ = self.cond_prob_h(vk)\n",
    "                self.update(v0, vk, ph0, phk)\n",
    "                train_loss += torch.mean(torch.abs(v0[v0>=0] - vk[v0>=0]))\n",
    "                s += 1.\n",
    "            if verbose:\n",
    "                print('Epoch {epoch} loss: {loss}'.format(epoch=epoch, loss=train_loss/s))\n",
    "\n",
    "    def evlauate(self, df_test):\n",
    "        verbose = self.verbose\n",
    "        users = len(df_test)\n",
    "        test_loss = 0\n",
    "        s = 0\n",
    "        for user in range(users):\n",
    "            v = df_test[user:user + 1]\n",
    "            vt = df_test[user:user + 1]\n",
    "            if len(vt[vt>=0]) > 0:\n",
    "                _,h = self.cond_prob_h(v)\n",
    "                _,v = self.cond_prob_v(h)\n",
    "                test_loss += torch.mean(torch.abs(vt[vt>=0] - v[vt>=0]))\n",
    "                s += 1.\n",
    "        if verbose:\n",
    "            print('Test loss: {loss}'.format(loss=test_loss/s))\n",
    "\n",
    "    def predict(self, v):\n",
    "        _,h = self.cond_prob_h(v)\n",
    "        probs, v = self.cond_prob_v(h)\n",
    "        return probs, v       \n",
    "        "
   ]
  },
  {
   "cell_type": "markdown",
   "metadata": {},
   "source": [
    "Define una RBM con tantas neuronas como el número de películas que haya definidas. Pruebe con 100 neuronas ocultas, 30 épocas y un tamaño de lote de 100. Entrene su RBM a continuación."
   ]
  },
  {
   "cell_type": "code",
   "execution_count": 18,
   "metadata": {},
   "outputs": [
    {
     "name": "stdout",
     "output_type": "stream",
     "text": [
      "Epoch 1 loss: 0.38880226016044617\n",
      "Epoch 2 loss: 0.2226582020521164\n",
      "Epoch 3 loss: 0.21822503209114075\n",
      "Epoch 4 loss: 0.1993342787027359\n",
      "Epoch 5 loss: 0.18877331912517548\n",
      "Epoch 6 loss: 0.18536008894443512\n",
      "Epoch 7 loss: 0.17867016792297363\n",
      "Epoch 8 loss: 0.17767685651779175\n",
      "Epoch 9 loss: 0.17462903261184692\n",
      "Epoch 10 loss: 0.18178609013557434\n",
      "Epoch 11 loss: 0.17739242315292358\n",
      "Epoch 12 loss: 0.17306289076805115\n",
      "Epoch 13 loss: 0.17275197803974152\n",
      "Epoch 14 loss: 0.17321474850177765\n",
      "Epoch 15 loss: 0.17121148109436035\n",
      "Epoch 16 loss: 0.17266595363616943\n",
      "Epoch 17 loss: 0.16924752295017242\n",
      "Epoch 18 loss: 0.17016425728797913\n",
      "Epoch 19 loss: 0.17169061303138733\n",
      "Epoch 20 loss: 0.16845490038394928\n",
      "Epoch 21 loss: 0.16633979976177216\n",
      "Epoch 22 loss: 0.1673937290906906\n",
      "Epoch 23 loss: 0.16746780276298523\n",
      "Epoch 24 loss: 0.16696599125862122\n",
      "Epoch 25 loss: 0.16626699268817902\n",
      "Epoch 26 loss: 0.1655222326517105\n",
      "Epoch 27 loss: 0.16443118453025818\n",
      "Epoch 28 loss: 0.16372527182102203\n",
      "Epoch 29 loss: 0.16347745060920715\n",
      "Epoch 30 loss: 0.1656816005706787\n"
     ]
    }
   ],
   "source": [
    "rbm = RBM_2(nv = len(training_set[0]), nh = 100, batch_size = 100, epochs = 30, steps = 10, lr = 0.5, verbose = True)\n",
    "rbm.train(training_set)"
   ]
  },
  {
   "cell_type": "markdown",
   "metadata": {},
   "source": [
    "Evalua cómo se comporta el modelo ante los datos no usados en el entrenamiento."
   ]
  },
  {
   "cell_type": "code",
   "execution_count": 19,
   "metadata": {},
   "outputs": [
    {
     "name": "stdout",
     "output_type": "stream",
     "text": [
      "Test loss: 0.20331263542175293\n"
     ]
    }
   ],
   "source": [
    "rbm.evlauate(test_set)"
   ]
  },
  {
   "cell_type": "markdown",
   "metadata": {},
   "source": [
    "Seleccione un usuario del set de entrenamiento y determine las películas entre las que no ha visto, las que se considerará con mayor probabilidad que le gusten."
   ]
  },
  {
   "cell_type": "code",
   "execution_count": 43,
   "metadata": {},
   "outputs": [
    {
     "name": "stdout",
     "output_type": "stream",
     "text": [
      "Most probable:  tensor(6298)\n"
     ]
    }
   ],
   "source": [
    "import random\n",
    "r1 = random.randint(0, test_set.shape[0])\n",
    "tmp_user = test_set[r1:r1+1]\n",
    "probs, pred = rbm.predict(tmp_user)\n",
    "likelihood = tmp_user * pred * probs\n",
    "print(\"Most probable: \", torch.argmin(likelihood))"
   ]
  }
 ],
 "metadata": {
  "kernelspec": {
   "display_name": "Python 3",
   "language": "python",
   "name": "python3"
  },
  "language_info": {
   "codemirror_mode": {
    "name": "ipython",
    "version": 3
   },
   "file_extension": ".py",
   "mimetype": "text/x-python",
   "name": "python",
   "nbconvert_exporter": "python",
   "pygments_lexer": "ipython3",
   "version": "3.11.8"
  }
 },
 "nbformat": 4,
 "nbformat_minor": 4
}
