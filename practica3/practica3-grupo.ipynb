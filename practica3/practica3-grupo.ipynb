{
 "cells": [
  {
   "cell_type": "markdown",
   "metadata": {},
   "source": [
    "# Entrega Nº3\n",
    "\n",
    "Grupo formado por:\n",
    " - Javier Asensio\n",
    " - Martín de las Heras\n",
    " - Daniel Serrano\n",
    " - Elena Tornero\n",
    "\n",
    "En este caso vamos a trabajar con redes SOM. Para ello deberéis generar la clase SOM tal y como se ha visto en la sesión práctica.\n"
   ]
  },
  {
   "cell_type": "code",
   "execution_count": 1,
   "metadata": {},
   "outputs": [],
   "source": [
    "import tensorflow as tf\n",
    "import numpy as np\n",
    "import pandas as pd\n",
    "from sklearn.preprocessing import StandardScaler, MinMaxScaler\n",
    "\n",
    "class SOM():\n",
    "    def __init__(self, n1, n2, dim, epochs=1, lr=0.5, sigma=None, verbose=True):\n",
    "        self.n1 = n1\n",
    "        self.n2 = n2\n",
    "        self.topography = []\n",
    "        self.dim = dim\n",
    "        self.num_iterations = epochs\n",
    "        self.learned = False\n",
    "        self.d = 0\n",
    "        self.verbose = verbose\n",
    "\n",
    "        if sigma is None:\n",
    "            sigma = max(n1, n2) / 2.0\n",
    "        else:\n",
    "            sigma = sigma\n",
    "\n",
    "        self.lr = lr\n",
    "        self.learning_rate_0 = lr\n",
    "        self.sigma = sigma\n",
    "        self.sigma_0 = sigma\n",
    "\n",
    "        if verbose:\n",
    "            print(\"SOM created with dimensions: \", n1, n2)\n",
    "\n",
    "        self.W = tf.random.normal([n1 * n2, dim])\n",
    "\n",
    "        self.topography = np.array(list(self.neuron_location(n1, n2)))\n",
    "\n",
    "    def training(self, x, i):\n",
    "        n1 = self.n1\n",
    "        n2 = self.n2\n",
    "\n",
    "        d = tf.sqrt(tf.reduce_sum(tf.pow(self.W - tf.stack([x for i in range(n1 * n2)]), 2), 1))\n",
    "\n",
    "        self.BMU_idx = tf.argmin(d, 0)\n",
    "        self.d = d\n",
    "\n",
    "        self.BMU_loc = self.topography[self.BMU_idx]\n",
    "\n",
    "        lambda_coeff = self.num_iterations / self.sigma_0\n",
    "        learning_rate = self.learning_rate_0 * np.exp(-i / lambda_coeff)\n",
    "        sigma = self.sigma_0 * np.exp(-i / lambda_coeff)\n",
    "\n",
    "        beta_ij = np.exp((-d**2)/(2*sigma**2))\n",
    "        neighbs = [self.check_point(p[0], p[1], self.BMU_loc[0], self.BMU_loc[1], sigma) for p in self.topography]\n",
    "\n",
    "        weight_multiplier = tf.math.multiply(beta_ij, neighbs)\n",
    "        weight_multiplier = tf.math.multiply(learning_rate, weight_multiplier)\n",
    "\n",
    "        delta_W = tf.subtract(tf.stack([x for i in range(n1 * n2)]), self.W)\n",
    "        weight_multiplier = tf.stack([weight_multiplier for i in range(self.dim)], axis=1)\n",
    "        update_value = tf.multiply(weight_multiplier, weight_multiplier)\n",
    "        update_value = tf.multiply(weight_multiplier, delta_W)\n",
    "        new_W = self.W + update_value\n",
    "        self.W = new_W\n",
    "\n",
    "    def fit(self, X):\n",
    "        np.random.shuffle(X)\n",
    "        X = tf.cast(X, tf.float32)\n",
    "        for i in range(self.num_iterations):\n",
    "            if self.verbose:\n",
    "                if (i%10==0):\n",
    "                    print('Step: ', i, ' of ', self.num_iterations, ' iterations.')\n",
    "            for x in X:\n",
    "                self.training(x, i)\n",
    "\n",
    "        self.Wts = list(self.W)\n",
    "        self.locations = list(self.topography)\n",
    "\n",
    "        self.learned = True\n",
    "\n",
    "    def check_point(self, x, y, center_x, center_y, radius):\n",
    "        check = (x - center_x)**2 + (y - center_y)**2 < radius**2\n",
    "        if check:\n",
    "            return 1\n",
    "        else:\n",
    "            return 0\n",
    "        \n",
    "    def winner(self, x):\n",
    "        if not self.learned:\n",
    "            raise ValueError(\"SOM not trained yet.\")\n",
    "        return self.BMU_loc\n",
    "    \n",
    "    def neuron_location(self, m, n):\n",
    "        for i in range(m):\n",
    "            for j in range(n):\n",
    "                yield np.array([i, j])\n",
    "\n",
    "    def map_vects(self, X):\n",
    "        if not self.learned:\n",
    "            raise ValueError(\"SOM not trained yet.\")\n",
    "        to_return = []\n",
    "        for vect in X:\n",
    "            min_index = min([i for i in range(len(self.Wts))],\n",
    "                            key=lambda x: np.linalg.norm(vect - self.Wts[x]))\n",
    "            to_return.append(self.locations[min_index])\n",
    "        return to_return\n",
    "    \n",
    "    def distance_map(self):\n",
    "        if not self.learned:\n",
    "            raise ValueError(\"SOM not trained yet.\")\n",
    "        imd = []\n",
    "        for index_p1 in range(self.n1*self.n2):\n",
    "            dist = 0\n",
    "            nums = 0\n",
    "            for index_p2 in range(self.n1*self.n2):\n",
    "                if ((index_p1 != index_p2) & self.check_point(self.topography[index_p1][0], self.topography[index_p1][1], self.topography[index_p2][0], self.topography[index_p2][1], 2) ==1):\n",
    "                    dist += tf.sqrt(tf.reduce_sum(tf.pow(self.W[index_p1] - self.W[index_p2], 2))).numpy()\n",
    "                    nums += 1.0\n",
    "            imd.append(dist/nums)\n",
    "        mapping = tf.reshape(imd, shape=(self.n1, self.n2)).numpy()\n",
    "\n",
    "        return mapping"
   ]
  },
  {
   "cell_type": "markdown",
   "metadata": {},
   "source": [
    "Una vez se tenga definida la clase, vamos a trabajar con el dataset credit_cards_applications. En este dataset se nos \n",
    "provee de información bancaria de distintos usuarios, representada a través de una serie de variables. Junto con ello\n",
    "aparece una columna (Class) que indica si al usuario se le ha denegado (0) o aprobado (1) el crédito bancario.\n",
    "\n",
    "Los campos son\n",
    "- Id del cliente\n",
    "- A1-A14 que son características (anonimizadas)\n",
    "- Class que será la categoría"
   ]
  },
  {
   "cell_type": "markdown",
   "metadata": {},
   "source": [
    "## Defina las variables con las que creará su SOM\n",
    "\n",
    "Lea el fichero Credit_Card_Applications.csv y genere una variable X con las características A1-A14 y escalelas de forma que compartan valores máximos y mínimos (0-1) "
   ]
  },
  {
   "cell_type": "code",
   "execution_count": 2,
   "metadata": {},
   "outputs": [],
   "source": [
    "import tensorflow as tf\n",
    "import pandas as pd\n",
    "import numpy as np\n",
    "from sklearn.preprocessing import StandardScaler, MinMaxScaler\n",
    "dataset = pd.read_csv('practica3-data.csv')\n",
    "X = dataset.copy().drop(columns=['CustomerID', 'Class']).values\n",
    "y = dataset.iloc[:, -1].values # Variable que dice si la application del customer fue aprobada o no\n",
    "\n",
    "# Feature Scaling\n",
    "sc = MinMaxScaler(feature_range = (0, 1)) # Para que todos los valores estén entre 0 y 1\n",
    "X = sc.fit_transform(X)"
   ]
  },
  {
   "cell_type": "markdown",
   "metadata": {},
   "source": [
    "Cree una instancia de la clase recién creada SOM con 10x10 neuoronas y entrenela con los valores de X"
   ]
  },
  {
   "cell_type": "code",
   "execution_count": 66,
   "metadata": {},
   "outputs": [
    {
     "name": "stdout",
     "output_type": "stream",
     "text": [
      "SOM created with dimensions:  10 10\n",
      "Step:  0  of  100  iterations.\n",
      "Step:  10  of  100  iterations.\n",
      "Step:  20  of  100  iterations.\n",
      "Step:  30  of  100  iterations.\n",
      "Step:  40  of  100  iterations.\n",
      "Step:  50  of  100  iterations.\n",
      "Step:  60  of  100  iterations.\n",
      "Step:  70  of  100  iterations.\n",
      "Step:  80  of  100  iterations.\n",
      "Step:  90  of  100  iterations.\n"
     ]
    }
   ],
   "source": [
    "som = SOM(10, 10, X.shape[1], epochs=100, lr=0.5, sigma=10.0, verbose=True)\n",
    "som.fit(X)"
   ]
  },
  {
   "cell_type": "markdown",
   "metadata": {},
   "source": [
    "Una vez entrenadas, plotee el mapa de las distancias interneurona y considere como potenciales outliers aquellos cuya distancia interneurona sea mayor o igual al percentil 95."
   ]
  },
  {
   "cell_type": "code",
   "execution_count": 67,
   "metadata": {},
   "outputs": [
    {
     "data": {
      "image/png": "[encoded data removed]",
      "text/plain": [
       "<Figure size 640x480 with 2 Axes>"
      ]
     },
     "metadata": {},
     "output_type": "display_data"
    }
   ],
   "source": [
    "distance_matrix = som.distance_map().T\n",
    "from matplotlib.pyplot import bone, pcolor, colorbar\n",
    "bone()\n",
    "pcolor(distance_matrix) # Para pintar el som. El .T para poner la matriz traspuesta. Lo que pinto es el MID de los nodos\n",
    "colorbar();"
   ]
  },
  {
   "cell_type": "markdown",
   "metadata": {},
   "source": [
    "De todos los valores de entrada, encuentre aquellos cuya BMU sea una de las neuronas 'sospechosas' e indique si se le concedió el crédito o no. Imprima dichos resultados por pantalla."
   ]
  },
  {
   "cell_type": "code",
   "execution_count": 68,
   "metadata": {},
   "outputs": [
    {
     "data": {
      "text/plain": [
       "array([[1, 6],\n",
       "       [2, 7],\n",
       "       [2, 9],\n",
       "       [3, 8],\n",
       "       [4, 5]], dtype=int64)"
      ]
     },
     "execution_count": 68,
     "metadata": {},
     "output_type": "execute_result"
    }
   ],
   "source": [
    "distance_list = distance_matrix.flatten()\n",
    "threshold = np.quantile(distance_list, 0.95)\n",
    "outliers = np.argwhere(distance_matrix > threshold)\n",
    "outliers"
   ]
  },
  {
   "cell_type": "code",
   "execution_count": 69,
   "metadata": {},
   "outputs": [],
   "source": [
    "bmu = som.map_vects(X)"
   ]
  },
  {
   "cell_type": "code",
   "execution_count": 70,
   "metadata": {},
   "outputs": [
    {
     "data": {
      "text/plain": [
       "Suspicious  Credit\n",
       "False       0         126\n",
       "            1          90\n",
       "True        0         257\n",
       "            1         217\n",
       "dtype: int64"
      ]
     },
     "execution_count": 70,
     "metadata": {},
     "output_type": "execute_result"
    }
   ],
   "source": [
    "flagged = [x in outliers for x in bmu]\n",
    "df = pd.DataFrame([y, flagged], ['Credit', 'Suspicious']).T\n",
    "df.groupby(['Suspicious', 'Credit']).size()"
   ]
  },
  {
   "cell_type": "code",
   "execution_count": null,
   "metadata": {},
   "outputs": [],
   "source": []
  }
 ],
 "metadata": {
  "kernelspec": {
   "display_name": "Python 3",
   "language": "python",
   "name": "python3"
  },
  "language_info": {
   "codemirror_mode": {
    "name": "ipython",
    "version": 3
   },
   "file_extension": ".py",
   "mimetype": "text/x-python",
   "name": "python",
   "nbconvert_exporter": "python",
   "pygments_lexer": "ipython3",
   "version": "3.11.8"
  }
 },
 "nbformat": 4,
 "nbformat_minor": 4
}
